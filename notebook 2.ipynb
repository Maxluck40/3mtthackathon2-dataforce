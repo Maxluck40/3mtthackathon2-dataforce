{
 "cells": [
  {
   "cell_type": "code",
   "execution_count": null,
   "metadata": {},
   "outputs": [],
   "source": [
    "import streamlit as st\n",
    "import pandas as pd\n",
    "from sklearn.linear_model import LogisticRegression\n",
    "from sklearn.model_selection import train_test_split\n",
    "from sklearn import metrics\n",
    "\n",
    "# Title and description\n",
    "st.title(\"Crop Prediction App\")\n",
    "st.write(\"Input soil metrics to predict the best crop.\")\n",
    "\n",
    "# User inputs\n",
    "nitrogen = st.number_input(\"Nitrogen content ratio\", min_value=0.0, max_value=100.0, step=0.1)\n",
    "phosphorous = st.number_input(\"Phosphorous content ratio\", min_value=0.0, max_value=100.0, step=0.1)\n",
    "potassium = st.number_input(\"Potassium content ratio\", min_value=0.0, max_value=100.0, step=0.1)\n",
    "ph_value = st.number_input(\"pH value\", min_value=0.0, max_value=14.0, step=0.1)\n",
    "\n",
    "# Load dataset and train model (typically you'd do this outside the user input section)\n",
    "data = pd.read_csv(\"soil_measures.csv\")\n",
    "X = data.drop(columns=\"crop\")\n",
    "y = data[\"crop\"]\n",
    "X_train, X_test, y_train, y_test = train_test_split(X, y, test_size=0.2, random_state=42)\n",
    "model = LogisticRegression()\n",
    "model.fit(X_train, y_train)\n",
    "\n",
    "# Predict button\n",
    "if st.button(\"Predict\"):\n",
    "    input_data = [[nitrogen, phosphorous, potassium, ph_value]]\n",
    "    prediction = model.predict(input_data)\n",
    "    st.write(f\"Recommended Crop: {prediction[0]}\")\n"
   ]
  }
 ],
 "metadata": {
  "language_info": {
   "name": "python"
  }
 },
 "nbformat": 4,
 "nbformat_minor": 2
}
